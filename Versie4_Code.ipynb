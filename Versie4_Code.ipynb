{
 "cells": [
  {
   "cell_type": "markdown",
   "metadata": {},
   "source": [
    "# Zeeman Dataverwerking\n",
    "korte omschrijving, er zit commentaar bij dus het is duidelijk\n",
    "\n",
    "nee waarschijnlijk niet helemaal, want het is mijn code dus ook mijn chaos\n",
    "\n",
    "het voorbeeld is met dat plaatje zeeman tot zeeman_3.JPG uit de datasheet\n",
    "hieer wordt gebruikgemaakt van 1 van de 2 kanalen van rgb (rood)\n",
    "\n",
    "uit de gemeten data (fotos) bleek dat dat niet zo goed werkte met alleen rood, dus ik heb het grijsplaatje gepakt,\n",
    "\n",
    "\n",
    "Ergens in een cell staat een functie, ik wilde alles in 1 functie zetten, maar daar schieten we niet heel veel meer mee op.\n",
    "als er iets vreselijk vreemd of onduidelijk is, app me ff"
   ]
  },
  {
   "cell_type": "markdown",
   "metadata": {},
   "source": [
    "## Importeer alle modules"
   ]
  },
  {
   "cell_type": "code",
   "execution_count": null,
   "metadata": {},
   "outputs": [],
   "source": [
    "import cv2\n",
    "import numpy as np\n",
    "import matplotlib.pyplot as plt\n",
    "from scipy.signal import find_peaks\n",
    "%matplotlib inline"
   ]
  },
  {
   "cell_type": "markdown",
   "metadata": {},
   "source": [
    "## Maak alle functies"
   ]
  },
  {
   "cell_type": "code",
   "execution_count": null,
   "metadata": {},
   "outputs": [],
   "source": [
    "# functie zodat de plaatjes wat minder mini zijn\n",
    "def display_img(img,cmap=None):\n",
    "    \"\"\" \n",
    "    Displays the image in question:\n",
    "    \"\"\"\n",
    "    fig = plt.figure(figsize=(14,24))\n",
    "    ax = fig.add_subplot(111)\n",
    "    ax.imshow(img,cmap)\n",
    "\n",
    "\n",
    "def blur(img,blur):\n",
    "    \"\"\"\n",
    "    Blurs the given image in grey and then returns it.\n",
    "    \"\"\"\n",
    "    zm_origineel = cv2.cvtColor(img,cv2.COLOR_BGR2RGB)\n",
    "    return cv2.medianBlur(zm_origineel,(blur)), zm_origineel\n",
    "\n",
    "def r_img(path):\n",
    "    \"\"\"\n",
    "    Reads the image from path and returns it:\n",
    "    \"\"\"\n",
    "    return cv2.imread(path)\n",
    "\n",
    "def sum_pixels(zm,length,axis=\"x\"):\n",
    "    \"\"\"\n",
    "    Sums up the desired pixel values on a vertical or horizontal basis:\n",
    "    \"\"\"\n",
    "    y_tot = np.zeros(length)\n",
    "    if axis == \"x\":\n",
    "        for i in range(length):\n",
    "            y_tot[i] = sum(zm[:,i])\n",
    "        return y_tot\n",
    "    \n",
    "    elif axis == \"y\":\n",
    "        for i in range(length):\n",
    "            y_tot[i] = sum(zm[i,:])\n",
    "        return y_tot\n",
    "\n",
    "def find_mean_from_peaks(x,guess=600):\n",
    "    \"\"\"\n",
    "    Vindt uit de piekdata het centrum door de dichtsbijzijnde pieken bij guess te pakken en deze te middelen:\n",
    "    \"\"\"\n",
    "    peaks, _ = find_peaks(x, height=100,width=10)\n",
    "    x_vals = peaks - guess\n",
    "    x_max = x_vals[x_vals > 0][0]; x_min = x_vals[x_vals < 0][-1]\n",
    "    x_peak = int(((x_max + x_min)/2) + guess)\n",
    "    return x_peak, peaks\n",
    "\n",
    "def find_nearest_two(array,value):\n",
    "    \"\"\"\n",
    "    Finds the two closest neaghbours:\n",
    "    \"\"\"\n",
    "    try:\n",
    "        r_search = array[array > value][0] - value\n",
    "    except:\n",
    "        r_search = 0\n",
    "    \n",
    "    try:\n",
    "        l_search = np.abs(array[array < value][-1] - value)\n",
    "    except:\n",
    "        l_search = 0\n",
    "\n",
    "    return l_search, r_search\n",
    "\n",
    "def main(path,i):\n",
    "    \"\"\"\n",
    "    Does everything that is done below in one file swoop!\n",
    "    \"\"\"\n",
    "    # niet aanzitten, dit is belangrijk\n",
    "    # index  =[0  , 1 ,  2,  3,  4,  5,  6,  7,  8,  9, 10, 11, 12, 13, 14, 15, 16]\n",
    "    x_waardes = [0  ,639,639,639,639,639,639,639,639,639,639,639,639,639,639,639,639] #NVT\n",
    "    y_waardes = [0  ,264,264,264,264,264,264,264,264,264,264,264,264,264,264,264,264] #NVT\n",
    "    ksizes =  [1  , 13, 15, 15, 15, 13,  3,  3,  1,  3,  3,  3,  3,  5,  3,  5,  5] #done\n",
    "    hights =  [1  , 80, 80, 80, 80, 80, 80, 80,100,110,110,110,100,100, 90, 90, 70] #done\n",
    "    widths =  [1  ,  1,  1,  1,  1,  1,  1,  3,  1,  2,  1,  1,  1,  1,  2,  2,  1] #done\n",
    "    dists  =  [1  ,  6,  6,  9,  9,  8,  7,  5,  5,  6,  8,  8,  7,  7,  8,  8,  6] #done\n",
    "    #constanten\n",
    "    i += 0\n",
    "    res = 3.6e-6\n",
    "\n",
    "    # import image\n",
    "    img = r_img(path)\n",
    "    zm_fout = img\n",
    "    zm_gray = cv2.cvtColor(zm_fout,cv2.COLOR_BGR2GRAY)\n",
    "    intensity_grayb = cv2.medianBlur(zm_gray,ksize = ksizes[i])\n",
    "    zm_origineel, zm = blur(zm_fout,ksizes[i])\n",
    "    zm_red = cv2.cvtColor(zm,cv2.COLOR_BGR2GRAY)\n",
    "\n",
    "    # bereken de x en y richting van de pixels:\n",
    "    y_lengte = np.shape(zm_red)[0]\n",
    "    x_lengte = np.shape(zm_red)[1]\n",
    "\n",
    "    # maak een lijst hiervan?\n",
    "    ylin = np.linspace(0,y_lengte-1,y_lengte)\n",
    "    xlin = np.linspace(0,x_lengte-1,x_lengte)\n",
    "\n",
    "    # doe de som van de x-as om zo het coördinaat van de piek te vinden:\n",
    "    x = sum_pixels(zm_red,y_lengte,axis=\"y\"); x_tot=x\n",
    "    # vind de twee pieken die het dichtst bij de 600 zitten en neem hiervaan het gemiddelde:\n",
    "    evarage_guess = 250\n",
    "    y_peak, peaks = find_mean_from_peaks(x,evarage_guess)\n",
    "\n",
    "    #bereken de x_peaks values:\n",
    "    # doe de som van de y-as om zo het coördinaat van de piek te vinden:\n",
    "    x = sum_pixels(zm_red,x_lengte,axis=\"x\"); y_tot=x\n",
    "    # vind de twee pieken die het dichtst bij de 600 zitten en neem hiervaan het gemiddelde:\n",
    "    evarage_guess = 600\n",
    "    x_peak, x_peaks = find_mean_from_peaks(x,evarage_guess)\n",
    "\n",
    "    #gebruik waardes van denise:\n",
    "    x_peak = 639\n",
    "\n",
    "    # bereken rm:\n",
    "    # links:\n",
    "    x_rel = x_peaks[x_peaks < x_peak] - x_peak\n",
    "    x_relL = [[(((val*res)/(len(x_rel)-i)))**2,len(x_rel)-i] for i,val in enumerate(x_rel)]\n",
    "    # rechts:\n",
    "    x_rel = x_peaks[x_peaks > x_peak] - x_peak\n",
    "    x_relR = [[(((val*res)/(i+1)))**2,i+1] for i,val in enumerate(x_rel)]\n",
    "    # all:\n",
    "    mx = []; [mx.append(x_relL[i][1]) for i in range(len(x_relL))]; [mx.append(x_relR[i][1]) for i in range(len(x_relR))]\n",
    "    rm2 = []; [rm2.append(x_relL[i][0]) for i in range(len(x_relL))]; [rm2.append(x_relR[i][0]) for i in range(len(x_relR))]\n",
    "    rm = x_peaks - x_peak\n",
    "    rm2 =(np.abs(rm)*res)**2\n",
    "\n",
    "    #x_peaks = x_peaks[mx > np.ones(len(mx))*2]\n",
    "    #mx = mx[mx > np.ones(len(mx))*2]        \n",
    "\n",
    "    # bepalen van lambda_0:\n",
    "    f1 = 0.05\n",
    "    f2 = 0.3\n",
    "    d = 0.269\n",
    "    f = ((1/f1)+(1/f2)-(d/(f1*f2)))**(-1)\n",
    "    n = 1.456\n",
    "    t = 0.003\n",
    "    # lambda_0 is:\n",
    "    lambda_0 = (np.polyfit(mx,rm2,deg=1)[0]*t*n)/(f**2)\n",
    "    lambda_0 = lambda_0 * 10\n",
    "\n",
    "    plt.scatter(mx,rm2,label=\"meetdata\")\n",
    "    p = np.poly1d(np.polyfit(mx,rm2,deg=1))\n",
    "    plt.plot(mx,p(mx),label=\"fit:\")\n",
    "    plt.xlim([min(mx),max(mx)])\n",
    "    plt.ylim([min(rm2),max(rm2)])\n",
    "    plt.xlabel(\"orde [m]\")\n",
    "    plt.ylabel(\"$r_m^2$ [m$^2$]\")\n",
    "    plt.legend()\n",
    "    plt.grid()\n",
    "    plt.show()\n",
    "\n",
    "    # vind alle pieken in de data\n",
    "    y_strook = intensity_grayb[x_peak,:]; data = y_strook\n",
    "    peaks, _ = find_peaks(y_strook,width=widths[i], height=hights[i],distance=dists[i])\n",
    "\n",
    "    # select peaks:\n",
    "    xpeaks = peaks\n",
    "    s6 = xpeaks[9:21]\n",
    "    s7 = xpeaks[7:19]\n",
    "    s8 = xpeaks[9:27]\n",
    "    s9 = xpeaks[6:21]\n",
    "    s10 = xpeaks[4:19]\n",
    "    s11 = xpeaks[6:24]\n",
    "    s12 = xpeaks[8:29]\n",
    "    s13 = xpeaks[6:24]\n",
    "    s14 = xpeaks[5:29]\n",
    "    s15 = xpeaks[6:30]\n",
    "    s16 = xpeaks[4:31]\n",
    "    afb  =['0','xpeaks','xpeaks','xpeaks','xpeaks','xpeaks','s6','s7','s8','s9','s10','s11','s12','s13','s14','s15','s16']\n",
    "\n",
    "    # show a current plot:\n",
    "    plt.figure(figsize=(10,5))\n",
    "    plt.plot(data,label=\"dwarsdoorsnede pixelwaardes\",color='blue')\n",
    "    plt.scatter(xlin[eval(afb[i])],data[eval(afb[i])],color='red',label=\"peaks\")\n",
    "    plt.xlabel(\"x-as [pixel]\")\n",
    "    plt.ylabel(\"grijs-pixelwaarde [pixel]\")\n",
    "    plt.legend()\n",
    "    plt.grid()\n",
    "    plt.show()\n",
    "    \n",
    "    # vindt voor de peak in x_peaks twee nagelegen buren.\n",
    "    dr = []\n",
    "    for peak in x_peaks:\n",
    "        dr.append(find_nearest_two(peaks,peak))\n",
    "    dr1 = np.array(dr,dtype=float)*res\n",
    "\n",
    "    # bereken dr en r en rdr\n",
    "    dr = dr1.mean(axis=1)\n",
    "    x_distance = (x_peaks - x_peak) * res\n",
    "    r = x_distance\n",
    "    rdr = np.abs(r) * np.abs(dr)\n",
    "\n",
    "    x = mx\n",
    "    y = [i[0] for i in dr1]\n",
    "    plt.scatter(x,y)\n",
    "    plt.xlim([min(x),max(x)])\n",
    "    plt.ylim([min(y),max(y)])\n",
    "    plt.show()\n",
    "\n",
    "    return rdr, lambda_0\n",
    "\n"
   ]
  },
  {
   "cell_type": "markdown",
   "metadata": {},
   "source": [
    "## Berekenen van bohr-magneton"
   ]
  },
  {
   "cell_type": "code",
   "execution_count": null,
   "metadata": {},
   "outputs": [],
   "source": [
    "ksizes =  [1  , 13, 15, 15, 15, 13,  3,  3,  1,  3,  3,  3,  3,  5,  3,  5,  5] #done\n",
    "hights =  [1  , 80, 80, 80, 80, 80, 80, 80,100,110,110,110,100,100, 90, 90, 70] #done\n",
    "widths =  [1  ,  1,  1,  1,  1,  1,  1,  3,  1,  2,  1,  1,  1,  1,  2,  2,  1] #done\n",
    "dists  =  [1  ,  6,  6,  9,  9,  8,  7,  5,  5,  6,  8,  8,  7,  7,  8,  8,  6] #done\n",
    "\n",
    "with open(\"nu.txt\",\"a+\") as f:\n",
    "    for i in range(len(ksizes)-1):\n",
    "        i += 1\n",
    "        f.write(str(ksizes[i])+\",\"+str(hights[i])+\",\"+str(widths[i])+\",\"+str(dists[i])+\"\\n\")\n",
    "    f.close()"
   ]
  },
  {
   "cell_type": "code",
   "execution_count": null,
   "metadata": {},
   "outputs": [],
   "source": [
    "afstanden = [54.5,53.5,52.5,51.5,50.5,49.5,48.5,47.5,46.5,45.5,44.5,43.5,42.5,41.5,40.5,40]\n",
    "magneetveldsterktes = [200,210,300,350,380,410,450,540,660,750,740,920,1100,1500,1800,1900,1950]\n",
    "\n",
    "B = np.array(magneetveldsterktes)\n",
    "h = 6.626e-34\n",
    "c = 3e9"
   ]
  },
  {
   "cell_type": "markdown",
   "metadata": {},
   "source": [
    "# DO ALL IN ONE!"
   ]
  },
  {
   "cell_type": "code",
   "execution_count": null,
   "metadata": {},
   "outputs": [],
   "source": []
  },
  {
   "cell_type": "code",
   "execution_count": null,
   "metadata": {},
   "outputs": [],
   "source": [
    "# get the names of all pictures:\n",
    "import glob\n",
    "all_pics = glob.glob(\"zeeman\\zeeman\\WIN*.jpg\")"
   ]
  },
  {
   "cell_type": "code",
   "execution_count": null,
   "metadata": {},
   "outputs": [],
   "source": [
    "# do this for all pictures:\n",
    "lijst = []\n",
    "for i,pic in enumerate(all_pics):\n",
    "    lijst.append(main(pic,i))"
   ]
  },
  {
   "cell_type": "markdown",
   "metadata": {},
   "source": [
    "# Print voor alle afbeeldingen de lambda_0's:"
   ]
  },
  {
   "cell_type": "code",
   "execution_count": null,
   "metadata": {},
   "outputs": [],
   "source": [
    "img = r_img(all_pics[6])\n",
    "zm_fout = img\n",
    "zm_gray = cv2.cvtColor(zm_fout,cv2.COLOR_BGR2GRAY)\n",
    "plt.figure(figsize=(10,5))\n",
    "plt.imshow(cv2.cvtColor(img,cv2.COLOR_BGR2RGB))\n",
    "plt.xlabel(\"x-as [pixels]\")\n",
    "plt.ylabel(\"y-as [pixels]\")\n",
    "plt.show()"
   ]
  },
  {
   "cell_type": "code",
   "execution_count": null,
   "metadata": {},
   "outputs": [],
   "source": [
    "len(all_pics)-1"
   ]
  },
  {
   "cell_type": "code",
   "execution_count": null,
   "metadata": {},
   "outputs": [],
   "source": [
    "_=[print(\"lambda_0 \"+str(i)+\": \",val[1]*1e9) for i,val in enumerate(lijst)]\n",
    "print(np.array([val[1] for i,val in enumerate(lijst)]).mean())\n",
    "print(np.array([val[1] for i,val in enumerate(lijst)]).std())"
   ]
  },
  {
   "cell_type": "code",
   "execution_count": null,
   "metadata": {},
   "outputs": [],
   "source": [
    "ljs = []\n",
    "for i,val in enumerate(lijst):\n",
    "    rdr = lijst[i][0]\n",
    "    lambda_0 = lijst[i][1]\n",
    "    \n",
    "    mu_b = (val[0].mean() * h * c)/((lambda_0**2)*(B[i]/1000))\n",
    "    ljs.append(mu_b*1e24)\n",
    "    print(mu_b*1e24)\n",
    "print(\"\\n\\n\\n\")\n",
    "print(np.array(ljs).mean())\n",
    "print(np.array(ljs).std())"
   ]
  },
  {
   "cell_type": "code",
   "execution_count": null,
   "metadata": {},
   "outputs": [],
   "source": [
    "np.array(ljs).mean()\n",
    "np.array(ljs).std()"
   ]
  },
  {
   "cell_type": "code",
   "execution_count": null,
   "metadata": {},
   "outputs": [],
   "source": [
    "[value[i][3] for i,value in enumerate(lijst)]"
   ]
  },
  {
   "cell_type": "code",
   "execution_count": null,
   "metadata": {},
   "outputs": [],
   "source": [
    "plt.scatter(magneetveldsterktes,np.array(lijst).mean(axis=1))"
   ]
  },
  {
   "cell_type": "code",
   "execution_count": null,
   "metadata": {},
   "outputs": [],
   "source": []
  }
 ],
 "metadata": {
  "interpreter": {
   "hash": "0600588c3b5f4418cbe7b5ebc6825b479f3bc010269d8b60d75058cdd010adfe"
  },
  "kernelspec": {
   "display_name": "Python 3.7.2 64-bit",
   "name": "python3"
  },
  "language_info": {
   "codemirror_mode": {
    "name": "ipython",
    "version": 3
   },
   "file_extension": ".py",
   "mimetype": "text/x-python",
   "name": "python",
   "nbconvert_exporter": "python",
   "pygments_lexer": "ipython3",
   "version": "3.7.2"
  }
 },
 "nbformat": 4,
 "nbformat_minor": 2
}
